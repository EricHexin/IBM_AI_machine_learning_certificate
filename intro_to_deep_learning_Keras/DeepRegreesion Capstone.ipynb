{
  "nbformat": 4,
  "nbformat_minor": 0,
  "metadata": {
    "colab": {
      "name": "Untitled1.ipynb",
      "provenance": [],
      "collapsed_sections": []
    },
    "kernelspec": {
      "name": "python3",
      "display_name": "Python 3"
    },
    "language_info": {
      "name": "python"
    }
  },
  "cells": [
    {
      "cell_type": "markdown",
      "source": [
        "Import required libraries"
      ],
      "metadata": {
        "id": "vpQOVJp3d5Kv"
      }
    },
    {
      "cell_type": "code",
      "source": [
        "import pandas as pd\n",
        "import numpy as np\n",
        "from keras.models import Sequential\n",
        "from keras.layers import Dense\n",
        "from sklearn.model_selection import train_test_split\n",
        "from sklearn.metrics import mean_squared_error"
      ],
      "metadata": {
        "id": "PWjnesygd2p0"
      },
      "execution_count": 1,
      "outputs": []
    },
    {
      "cell_type": "markdown",
      "source": [
        "Read data file "
      ],
      "metadata": {
        "id": "2JTDbPY1eA1S"
      }
    },
    {
      "cell_type": "code",
      "source": [
        "concrete_data = pd.read_csv('https://s3-api.us-geo.objectstorage.softlayer.net/cf-courses-data/CognitiveClass/DL0101EN/labs/data/concrete_data.csv')\n",
        "target_col = 'Strength'\n",
        "predictors = concrete_data.drop([target_col],axis=1).values\n",
        "target = concrete_data[target_col].values\n",
        "n_cols=predictors.shape[1]\n",
        "cycles = 50\n",
        "num_epochs = 50"
      ],
      "metadata": {
        "id": "bYmRZ49qd_jE"
      },
      "execution_count": 2,
      "outputs": []
    },
    {
      "cell_type": "markdown",
      "source": [
        "A. Build a baseline model (5 marks) \n",
        "Use the Keras library to build a neural network with the following:\n",
        "- One hidden layer of 10 nodes, and a ReLU activation function\n",
        "- Use the adam optimizer and the mean squared error  as the loss function.\n",
        "1. Randomly split the data into a training and test sets by holding 30% of the data for testing. You can use the train_test_splithelper function from Scikit-learn.\n",
        "2. Train the model on the training data using 50 epochs.\n",
        "3. Evaluate the model on the test data and compute the mean squared error between the predicted concrete strength and the actual concrete strength. You can use the mean_squared_error function from Scikit-learn.\n",
        "4. Repeat steps 1 - 3, 50 times, i.e., create a list of 50 mean squared errors.\n",
        "5. Report the mean and the standard deviation of the mean squared errors.\n",
        "\n"
      ],
      "metadata": {
        "id": "h_tTHEr0dkmY"
      }
    },
    {
      "cell_type": "code",
      "source": [
        "def create_model(predictors, target, num_hidden = 1, num_epochs = 50):\n",
        "\n",
        "    # create regression model\n",
        "    model = Sequential()\n",
        "    for i in range(num_hidden):\n",
        "      model.add(Dense(10, activation='relu', input_shape=(n_cols,)))\n",
        "    model.add(Dense(1))\n",
        "        \n",
        "    # compile model\n",
        "    model.compile(optimizer='adam', loss='mean_squared_error')\n",
        "\n",
        "    res = []\n",
        "    for i in range(cycles):\n",
        "        #Randomly split the data into a training set (70%) and a test set (30%):  \n",
        "        X_train, X_test, y_train, y_test = train_test_split(predictors, target, test_size=0.3)\n",
        "        #Train and test the model at the same time\n",
        "        model.fit(X_train, y_train, epochs=num_epochs, verbose=0)\n",
        "        #Add mean_squared_error for every cycle \n",
        "        res.append(model.evaluate(X_test, y_test, verbose=0))\n",
        "    return np.mean(res), np.std(res)  "
      ],
      "metadata": {
        "id": "zUQwH9K1d1c0"
      },
      "execution_count": 3,
      "outputs": []
    },
    {
      "cell_type": "code",
      "source": [
        "mean_before_norm, stdd_before_norm = create_model(predictors, target)\n",
        "print(\"Mean      of least square errors for {} cycles is  {}\".format(cycles, mean_before_norm))\n",
        "print(\"Std. Dev. of least square errors for {} cycles is  {}\".format(cycles, stdd_before_norm))"
      ],
      "metadata": {
        "colab": {
          "base_uri": "https://localhost:8080/"
        },
        "id": "k97Nes_UwIov",
        "outputId": "40aa30c6-3def-4f31-9867-4b497abb0906"
      },
      "execution_count": 4,
      "outputs": [
        {
          "output_type": "stream",
          "name": "stdout",
          "text": [
            "Mean      of least square errors for 50 cycles is  112.8608405303955\n",
            "Std. Dev. of least square errors for 50 cycles is  181.47491148967964\n"
          ]
        }
      ]
    },
    {
      "cell_type": "markdown",
      "source": [
        "B. Normalize the data (5 marks) \n",
        "\n",
        "Repeat Part A but use a normalized version of the data. Recall that one way to normalize the data is by subtracting the mean from the individual predictors and dividing by the standard deviation.\n",
        "\n",
        "How does the mean of the mean squared errors compare to that from Step A?"
      ],
      "metadata": {
        "id": "XmsHlSXug4kK"
      }
    },
    {
      "cell_type": "code",
      "execution_count": 5,
      "metadata": {
        "colab": {
          "base_uri": "https://localhost:8080/"
        },
        "id": "l1rTxgeWdSnj",
        "outputId": "386612f2-7258-4a36-d2eb-d4838df7da0d"
      },
      "outputs": [
        {
          "output_type": "stream",
          "name": "stdout",
          "text": [
            "Mean      of least square errors for 50 cycles after normalisation is  105.66792976379395\n",
            "Std. Dev. of least square errors for 50 cycles after normalisation is  48.72150774300432\n"
          ]
        }
      ],
      "source": [
        "predictors_norm = (predictors - predictors.mean())/predictors.std()\n",
        "mean_with_norm, stdd_with_norm = create_model(predictors_norm, target)  \n",
        "print(\"Mean      of least square errors for {} cycles after normalisation is  {}\".format(cycles, mean_with_norm))\n",
        "print(\"Std. Dev. of least square errors for {} cycles after normalisation is  {}\".format(cycles, stdd_with_norm))\n"
      ]
    },
    {
      "cell_type": "markdown",
      "source": [
        "C. Increate the number of epochs (5 marks)\n",
        "\n",
        "Repeat Part B but use 100 epochs this time for training.\n",
        "\n",
        "How does the mean of the mean squared errors compare to that from Step B?"
      ],
      "metadata": {
        "id": "2aKjiIXsy2AA"
      }
    },
    {
      "cell_type": "code",
      "source": [
        "mean_with_norm100, stdd_with_norm100 = create_model(predictors_norm, target, num_epochs=100)  \n",
        "print(\"Mean      of least square errors for {} cycles after normalisation with 100 epochs is  {}\".format(cycles, mean_with_norm100))\n",
        "print(\"Std. Dev. of least square errors for {} cycles after normalisation with 100 epochs is  {}\".format(cycles, stdd_with_norm100))\n",
        "print('Performance comparison for different number of epochs :\\n')\n",
        "df100 = pd.DataFrame([['mean', mean_with_norm, mean_with_norm100], ['std. deviation', stdd_with_norm, stdd_with_norm100]], columns=['Measure', \"50 epochs\", \"100 epochs\"], index=None)\n",
        "df100.set_index(['Measure'], inplace=True)\n",
        "print(df100)\n",
        "\n"
      ],
      "metadata": {
        "colab": {
          "base_uri": "https://localhost:8080/"
        },
        "id": "1lYHFFJAgl3k",
        "outputId": "1cb4716f-e691-48ea-d259-fadb621ff76e"
      },
      "execution_count": 6,
      "outputs": [
        {
          "output_type": "stream",
          "name": "stdout",
          "text": [
            "Mean      of least square errors for 50 cycles after normalisation with 100 epochs is  67.23333320617675\n",
            "Std. Dev. of least square errors for 50 cycles after normalisation with 100 epochs is  41.89148101371774\n",
            "Performance comparison for normalised predictors :\n",
            "\n",
            "                 50 epochs  100 epochs\n",
            "Measure                               \n",
            "mean            105.667930   67.233333\n",
            "std. deviation   48.721508   41.891481\n"
          ]
        }
      ]
    },
    {
      "cell_type": "markdown",
      "source": [
        "D. Increase the number of hidden layers (5 marks)\n",
        "\n",
        "Repeat part B but use a neural network with the following instead:\n",
        "\n",
        "- Three hidden layers, each of 10 nodes and ReLU activation function.\n",
        "\n",
        "How does the mean of the mean squared errors compare to that from Step B?"
      ],
      "metadata": {
        "id": "-yy64AkmvSZh"
      }
    },
    {
      "cell_type": "code",
      "source": [
        "mean_with_norm3, stdd_with_norm3 = create_model(predictors_norm, target, num_hidden = 3) \n",
        "print(\"Mean      of least square errors for {} cycles after normalisation with 3 hidden layers is  {}\".format(cycles, mean_with_norm3))\n",
        "print(\"Std. Dev. of least square errors for {} cycles after normalisation with 3 hidden layers is  {}\".format(cycles, stdd_with_norm3))\n",
        "print('Performance comparison for different hidden layers :\\n')\n",
        "df3 = pd.DataFrame([['mean', mean_with_norm, mean_with_norm3], ['std. deviation', stdd_with_norm, stdd_with_norm3]], columns=['Measure', \"1 hidden layer\", \"3 hidden layers\"], index=None)\n",
        "df3.set_index(['Measure'], inplace=True)\n",
        "print(df3) \n"
      ],
      "metadata": {
        "colab": {
          "base_uri": "https://localhost:8080/"
        },
        "id": "FW0Den1mvXBo",
        "outputId": "ba5ef647-e1bd-4699-fb93-373409bcbd77"
      },
      "execution_count": 7,
      "outputs": [
        {
          "output_type": "stream",
          "name": "stdout",
          "text": [
            "Mean      of least square errors for 50 cycles after normalisation with 3 hidden layers is  61.316516418457034\n",
            "Std. Dev. of least square errors for 50 cycles after normalisation with 3 hidden layers is  33.798477860484745\n",
            "Performance comparison for normalised predictors :\n",
            "\n",
            "                1 hidden layer  3 hidden layers\n",
            "Measure                                        \n",
            "mean                105.667930        61.316516\n",
            "std. deviation       48.721508        33.798478\n"
          ]
        }
      ]
    }
  ]
}